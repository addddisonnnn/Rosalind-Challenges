{
 "cells": [
  {
   "cell_type": "markdown",
   "metadata": {},
   "source": [
    "## <span style=\"font-family: 'Georgia', serif;\"> Rosalind Extra Credit </span>\n",
    "### <span style=\"font-family: 'Georgia', serif;\"> Addison Yam (addisony)</span>\n",
    "### <span style=\"font-family: 'Georgia', serif;\"> BF527 - Bioinformatic Foundations Fall 2025</span>\n",
    "### <span style=\"font-family: 'Georgia', serif;\"> October 27, 2025</span>\n",
    "\n",
    "Problem 1 - Counting DNA Nucleotides\n",
    "Problem 2 - Transcibing DNA into RNA\n",
    "Problem 3 - Complementing a Strand of DNA\n",
    "Problem 4 - Rabbits and Recurrence Relations\n",
    "Problem 5 - Computing GC Content\n",
    "Problem 6 - Counting Point Mutations"
   ]
  },
  {
   "cell_type": "code",
   "execution_count": 13,
   "metadata": {},
   "outputs": [
    {
     "name": "stdout",
     "output_type": "stream",
     "text": [
      "204 240 223 219\n"
     ]
    }
   ],
   "source": [
    "\"\"\"\n",
    "Title: Counting DNA Nucleotides\n",
    "Link: https://rosalind.info/problems/dna/\n",
    "\n",
    "Problem:\n",
    "A string is simply an ordered collection of symbols selected from some alphabet and formed into a word; \n",
    "the length of a string is the number of symbols that it contains.\n",
    "\n",
    "An example of a length 21 DNA string (whose alphabet contains the symbols 'A', 'C', 'G', and 'T') is \"ATGCTTCAGAAAGGTCTTACG.\"\n",
    "\n",
    "Given: A DNA string s\n",
    " of length at most 1000 nt.\n",
    "\n",
    "Return: Four integers (separated by spaces) counting the respective number of times that the symbols 'A', 'C', 'G', and 'T' occur in s.\n",
    "\"\"\"\n",
    "def countbases(sequence):\n",
    "    Acount=sequence.count(\"A\")\n",
    "    Gcount=sequence.count(\"G\")\n",
    "    Ccount=sequence.count(\"C\")\n",
    "    Tcount=sequence.count(\"T\")\n",
    "    return(Acount, Ccount, Gcount, Tcount)\n",
    "if __name__ == \"__main__\":\n",
    "    filename = \"data/rosalind_dna.txt\"\n",
    "    with open(filename, 'r') as file:\n",
    "        filecontents = file.read()\n",
    "    Acount, Ccount, Gcount, Tcount = countbases(filecontents)\n",
    "    print(Acount, Ccount, Gcount, Tcount)"
   ]
  },
  {
   "cell_type": "markdown",
   "metadata": {},
   "source": [
    "<img src=\"countingDNA.png\" alt=\"Problem 1 Completion\" width=\"400px\">"
   ]
  },
  {
   "cell_type": "code",
   "execution_count": 14,
   "metadata": {},
   "outputs": [
    {
     "name": "stdout",
     "output_type": "stream",
     "text": [
      "AGAAGUGCACAUAUCCUCGACUCGUCGUUUGAGUGAGGUGACCCACUCACUUGAAAGGAGAAGAAAGAUGGUCGAUGCCCUGUCUAAUACUCCUUCCGUCUGGGUGUGCGCCAUUUCGCAGCAAGGUAAUCCUGCAGCACACGGGAAACACUGCCGAAAGCUUGCCCUGAAAUACUCUUCGUGCUGCCGAUAAGUAUCGGAGAGGUCUCCUGGACGUGUAAUAUUGUCGCUAUUGGCAUUUUAUCACGGAAUGGCACUCGUCGUACUCACCCUCUCACAUUCGUGUUCAGCAAUCAGCUAUUUAUGGAGUAAACUAUAUAUGCUUAUGCUGUGUUCACGGCGCAUUUUCCUUCAGCUUCUGCCGAUUGAAAUUACCGAAUAAAGGCGUCAUAUACUUCGAGGACAUGAUUGAAGGGGUUUCGUCAUGAUGGUGAAUAAGACAGCUCUGUUCGAGAUAGCUCAAACAACGAGCGACGUCUAGAGACCUCGAAGGUAGGCCCGUGGAGUUCGCGUAGAACGAAUACGAAGAAUCGUAAGAGCGAGUCAACUUCUCGCUUCGCAAGUCAAUUUCGUUGCAGCAUUACGUUUCCGUACCGGUUACAGAACAUAACCGUGUCCGGCAGGACCCUGUCUCACAUGGUUUUAUCAUCUAGGCUGCUAGCGUGCGGCAUGCAGUCUUAAACCACCUCAGAACCUACCGUCUCCGCCUCAGCUCGACGUCACGUCCCGCUGUUGUCGGGCUAGGGUAGGGUCUCUGGUAUGAACGAUGGUACCGAAGAUCUGCGUAUACCAUGUGCCAUCCCCUCCAUAGAGGCAACGGGCAACAGACUACGAAAGGUCGCGAAGAACGGUUUAAUACACGGAACCAUCUUCUGAAGACCACAAGUGCGAUGCCACAAUCGUAUCCCGAUCAGGCCUCCGUCCUGUAGAGGUGCUUUAGAGGUCGGUUCCCUAGUGAUGGAACGGAGAAUUG\n"
     ]
    }
   ],
   "source": [
    "\"\"\"\n",
    "Title: Transcribing DNA into RNA\n",
    "Link:\n",
    "\n",
    "Problem:\n",
    "An RNA string is a string formed from the alphabet containing 'A', 'C', 'G', and 'U'.\n",
    "\n",
    "Given a DNA string t corresponding to a coding strand, its transcribed RNA string u \n",
    "is formed by replacing all occurrences of 'T' in t with 'U' in u.\n",
    "\n",
    "Given: A DNA string t having length at most 1000 nt.\n",
    "\n",
    "Return: The transcribed RNA string of t.\n",
    "\n",
    "Sample Dataset\n",
    "GATGGAACTTGACTACGTAAATT\n",
    "Sample Output\n",
    "GAUGGAACUUGACUACGUAAAUU\n",
    "\"\"\"\n",
    "def transcribe(sequence):\n",
    "    RNAseq = \"\"\n",
    "    for i in range(len(sequence)):\n",
    "        if sequence[i]==\"T\":\n",
    "            RNAseq+=\"U\"\n",
    "        else:\n",
    "            RNAseq+=sequence[i]\n",
    "    return(RNAseq)\n",
    "\n",
    "if __name__ == \"__main__\":\n",
    "    filename = \"data/rosalind_rna.txt\"\n",
    "    with open(filename, 'r') as file:\n",
    "        filecontents = file.read().strip()\n",
    "    sequence = transcribe(filecontents)\n",
    "    print(sequence)"
   ]
  },
  {
   "cell_type": "markdown",
   "metadata": {},
   "source": [
    "<img src=\"transcribing.png\" alt=\"Problem 2 Completion\" width=\"400px\">"
   ]
  }
 ],
 "metadata": {
  "kernelspec": {
   "display_name": "base",
   "language": "python",
   "name": "python3"
  },
  "language_info": {
   "codemirror_mode": {
    "name": "ipython",
    "version": 3
   },
   "file_extension": ".py",
   "mimetype": "text/x-python",
   "name": "python",
   "nbconvert_exporter": "python",
   "pygments_lexer": "ipython3",
   "version": "3.11.5"
  }
 },
 "nbformat": 4,
 "nbformat_minor": 2
}
