{
 "cells": [
  {
   "cell_type": "markdown",
   "metadata": {},
   "source": [
    "## <span style=\"font-family: 'Georgia', serif;\"> Rosalind Extra Credit </span>\n",
    "### <span style=\"font-family: 'Georgia', serif;\"> Addison Yam (addisony)</span>\n",
    "### <span style=\"font-family: 'Georgia', serif;\"> BF527 - Bioinformatic Foundations Fall 2025</span>\n",
    "### <span style=\"font-family: 'Georgia', serif;\"> October 27, 2025</span>\n",
    "\n",
    "Problem 1 - Counting DNA Nucleotides\n",
    "\n",
    "Problem 2 - Transcibing DNA into RNA\n",
    "\n",
    "Problem 3 - Complementing a Strand of DNA\n",
    "\n",
    "Problem 4 - Rabbits and Recurrence Relations\n",
    "\n",
    "Problem 5 - Computing GC Content\n",
    "\n",
    "Problem 6 - Counting Point Mutations"
   ]
  },
  {
   "cell_type": "code",
   "execution_count": 21,
   "metadata": {},
   "outputs": [
    {
     "name": "stdout",
     "output_type": "stream",
     "text": [
      "204 240 223 219\n"
     ]
    }
   ],
   "source": [
    "\"\"\"\n",
    "Title: Counting DNA Nucleotides\n",
    "Link: https://rosalind.info/problems/dna/\n",
    "\n",
    "Problem:\n",
    "A string is simply an ordered collection of symbols selected from some alphabet and formed into a word; \n",
    "the length of a string is the number of symbols that it contains.\n",
    "\n",
    "An example of a length 21 DNA string (whose alphabet contains the symbols 'A', 'C', 'G', and 'T') is \"ATGCTTCAGAAAGGTCTTACG.\"\n",
    "\n",
    "Given: A DNA string s\n",
    " of length at most 1000 nt.\n",
    "\n",
    "Return: Four integers (separated by spaces) counting the respective number of times that the symbols 'A', 'C', 'G', and 'T' occur in s.\n",
    "\"\"\"\n",
    "def countbases(sequence):\n",
    "    Acount=sequence.count(\"A\")\n",
    "    Gcount=sequence.count(\"G\")\n",
    "    Ccount=sequence.count(\"C\")\n",
    "    Tcount=sequence.count(\"T\")\n",
    "    return(Acount, Ccount, Gcount, Tcount)\n",
    "if __name__ == \"__main__\":\n",
    "    filename = \"data/rosalind_dna.txt\"\n",
    "    with open(filename, 'r') as file:\n",
    "        filecontents = file.read()\n",
    "    Acount, Ccount, Gcount, Tcount = countbases(filecontents)\n",
    "    print(Acount, Ccount, Gcount, Tcount)"
   ]
  },
  {
   "cell_type": "markdown",
   "metadata": {},
   "source": [
    "<img src=\"countingDNA.png\" alt=\"Problem 1 Completion\" width=\"400px\">"
   ]
  },
  {
   "cell_type": "code",
   "execution_count": 22,
   "metadata": {},
   "outputs": [
    {
     "name": "stdout",
     "output_type": "stream",
     "text": [
      "AGAAGUGCACAUAUCCUCGACUCGUCGUUUGAGUGAGGUGACCCACUCACUUGAAAGGAGAAGAAAGAUGGUCGAUGCCCUGUCUAAUACUCCUUCCGUCUGGGUGUGCGCCAUUUCGCAGCAAGGUAAUCCUGCAGCACACGGGAAACACUGCCGAAAGCUUGCCCUGAAAUACUCUUCGUGCUGCCGAUAAGUAUCGGAGAGGUCUCCUGGACGUGUAAUAUUGUCGCUAUUGGCAUUUUAUCACGGAAUGGCACUCGUCGUACUCACCCUCUCACAUUCGUGUUCAGCAAUCAGCUAUUUAUGGAGUAAACUAUAUAUGCUUAUGCUGUGUUCACGGCGCAUUUUCCUUCAGCUUCUGCCGAUUGAAAUUACCGAAUAAAGGCGUCAUAUACUUCGAGGACAUGAUUGAAGGGGUUUCGUCAUGAUGGUGAAUAAGACAGCUCUGUUCGAGAUAGCUCAAACAACGAGCGACGUCUAGAGACCUCGAAGGUAGGCCCGUGGAGUUCGCGUAGAACGAAUACGAAGAAUCGUAAGAGCGAGUCAACUUCUCGCUUCGCAAGUCAAUUUCGUUGCAGCAUUACGUUUCCGUACCGGUUACAGAACAUAACCGUGUCCGGCAGGACCCUGUCUCACAUGGUUUUAUCAUCUAGGCUGCUAGCGUGCGGCAUGCAGUCUUAAACCACCUCAGAACCUACCGUCUCCGCCUCAGCUCGACGUCACGUCCCGCUGUUGUCGGGCUAGGGUAGGGUCUCUGGUAUGAACGAUGGUACCGAAGAUCUGCGUAUACCAUGUGCCAUCCCCUCCAUAGAGGCAACGGGCAACAGACUACGAAAGGUCGCGAAGAACGGUUUAAUACACGGAACCAUCUUCUGAAGACCACAAGUGCGAUGCCACAAUCGUAUCCCGAUCAGGCCUCCGUCCUGUAGAGGUGCUUUAGAGGUCGGUUCCCUAGUGAUGGAACGGAGAAUUG\n"
     ]
    }
   ],
   "source": [
    "\"\"\"\n",
    "Title: Transcribing DNA into RNA\n",
    "Link:\n",
    "\n",
    "Problem:\n",
    "An RNA string is a string formed from the alphabet containing 'A', 'C', 'G', and 'U'.\n",
    "\n",
    "Given a DNA string t corresponding to a coding strand, its transcribed RNA string u \n",
    "is formed by replacing all occurrences of 'T' in t with 'U' in u.\n",
    "\n",
    "Given: A DNA string t having length at most 1000 nt.\n",
    "\n",
    "Return: The transcribed RNA string of t.\n",
    "\n",
    "Sample Dataset\n",
    "GATGGAACTTGACTACGTAAATT\n",
    "Sample Output\n",
    "GAUGGAACUUGACUACGUAAAUU\n",
    "\"\"\"\n",
    "def transcribe(sequence):\n",
    "    RNAseq = \"\"\n",
    "    for i in range(len(sequence)):\n",
    "        if sequence[i]==\"T\":\n",
    "            RNAseq+=\"U\"\n",
    "        else:\n",
    "            RNAseq+=sequence[i]\n",
    "    return(RNAseq)\n",
    "\n",
    "if __name__ == \"__main__\":\n",
    "    filename = \"data/rosalind_rna.txt\"\n",
    "    with open(filename, 'r') as file:\n",
    "        filecontents = file.read().strip()\n",
    "    sequence = transcribe(filecontents)\n",
    "    print(sequence)"
   ]
  },
  {
   "cell_type": "markdown",
   "metadata": {},
   "source": [
    "<img src=\"transcribing.png\" alt=\"Problem 2 Completion\" width=\"400px\">"
   ]
  },
  {
   "cell_type": "code",
   "execution_count": 23,
   "metadata": {},
   "outputs": [
    {
     "name": "stdout",
     "output_type": "stream",
     "text": [
      "AGAGGCACTAAACTTCGTGCTCACCTCGTCGGTGACCACCATCCGAGTCTCTGAGCGCCGAGGCGTCCGCAGTTATTCCACTTGGATGTGAGCCAGTAGCAGTCGGTAGTTACGATAGACGGAGGGCTCAATAACCGAGGCATATCTTAAGGGTTCGGGTCAGGTGGCTGGCTTTACAAGAAAGCAGCTTTGAGGGAATGCGAAATAGGAAGTTTCGTCGGGTATACATGAAGAGAGGATAATTTAACGTTCGAACCAACACTTTACAAATCGGCCGAATTGCCGCAATTTGTTTAAAATGCGTTACCAAAGGGCACCTCTACCGTAAGTTGCGTTTTCGAAAGGGGGGGCCATAACGCCTCTGCCCTAATTGAGTATCCTGCTAAACGCCCCAACTTTTGGTTCTTCCAAAAAATGACACTTATTACAGTATGTCTCGTAGATAAACTCTGCGAACGGCTTGGTACGAATTAACTAATGACGGTCAGTTACGACGAAATTCTGCGCAGCGGGAGTAGATTTCTACCGATAGTTCTATGTTCCCAGCAACAGATTCGCTAACAGCTATTTAGTTAAACTCGTCTGGCTACTTCCGGGATACTGTTCTCATGGACCCGAACCTAGTCGGGGGTGGTGAGTATGACCCGTTAGGATTTTAGCTATACGATCGATAGTAGGCTCTCCACCTTAGCTATGATCTGTGAGACAGTTGGTTCAATCCGGTGTCAAGCCGAGATTGTCCCGGGATAGCTTCTGCTTGAGTCGTAACTTTCCCGACAGCGATAGCAAGCCGGCACATCATTCCAATAGTCGGCCACTTTAGGTCGGCGAGGTCCTATGCTCTAGTGGTAAACATAGGCACACTTTCATGGTTTTCTTTAGCGCGGCAGGGGTGGCCTGTGGCTCTTTTTGAAGGCATTTATTTATGGTAGCGGCGGTAC\n"
     ]
    }
   ],
   "source": [
    "\"\"\"\n",
    "Title: Complementing a Strand of DNA\n",
    "Link: https://rosalind.info/problems/revc/\n",
    "\n",
    "Problem:\n",
    "In DNA strings, symbols 'A' and 'T' are complements of each other, as are 'C' and 'G'.\n",
    "\n",
    "The reverse complement of a DNA string s is the string sc \n",
    "formed by reversing the symbols of s, then taking the complement of each symbol \n",
    "(e.g., the reverse complement of \"GTCA\" is \"TGAC\").\n",
    "\n",
    "Given: A DNA string s of length at most 1000 bp.\n",
    "\n",
    "Return: The reverse complement sc of s.\n",
    "\n",
    "Sample Dataset\n",
    "AAAACCCGGT\n",
    "Sample Output\n",
    "ACCGGGTTTT\n",
    "\"\"\"\n",
    "def complementrary(sequence):\n",
    "    complementstrand = \"\"\n",
    "    complementdict = {'A':'T', 'G':'C', 'C':'G', 'T':'A'}\n",
    "    for base in reversed(sequence):\n",
    "        complementstrand += complementdict.get(base)\n",
    "    return complementstrand\n",
    "if __name__ == \"__main__\":\n",
    "    filename = \"data/rosalind_revc.txt\"\n",
    "    with open(filename, 'r') as file:\n",
    "        filecontents = file.read().strip()\n",
    "    print(complementrary(filecontents))"
   ]
  },
  {
   "cell_type": "markdown",
   "metadata": {},
   "source": [
    "<img src=\"complement.png\" alt=\"Problem 3 Completion\" width=\"400px\">"
   ]
  },
  {
   "cell_type": "code",
   "execution_count": 24,
   "metadata": {},
   "outputs": [
    {
     "name": "stdout",
     "output_type": "stream",
     "text": [
      "574888488199\n"
     ]
    }
   ],
   "source": [
    "\"\"\"\n",
    "Title: Rabbits and Recurrence Relations\n",
    "Link: https://rosalind.info/problems/fib/\n",
    "\n",
    "Problem:\n",
    "A sequence is an ordered collection of objects. We use a_n to represent the n-th of a sequence.\n",
    "\n",
    "A recurrence relation is a way of defininf the terms of a seuqnece with \n",
    "respect to the values of previous terms.\n",
    "\n",
    "When finding the n-th term of a sequence defined by a recurrence relation, we can simply use the recurrence relation \n",
    "to generate terms for progressively larger values of n. This problem introduces us to the computational technique of dynamic programming, \n",
    "which successively builds up solutions by using the answers to smaller cases.\n",
    "\n",
    "Input: (n, k) where n <= 40, k <=5\n",
    "\n",
    "Output: Fn = Fn-1 + Fn-2 * 3\n",
    "Total number of rabbit pairs present after n months, where every pair of reproduction age produces a litter of k raabits\n",
    "\n",
    "Sample Dataset:\n",
    "5 3\n",
    "Sample Output\n",
    "19\n",
    "\n",
    "F1 = 1\n",
    "F2 = 1\n",
    "F3 = F2 + F1 * 3 = 1 + 1 * 3 = 4\n",
    "F4 = F3 + F2 * 3 = 4 + 1 * 3 = 7\n",
    "F5 = F4 + F3 * 3 = 7 + 4 * 3 = 19\n",
    "F6 = F5 + F4 * 3 = 19 + 7 * 3 = 40\n",
    "\"\"\"\n",
    "def computefib(n, k):\n",
    "    if n==1 or n==2: #this should always be the same regardless of k\n",
    "        return 1\n",
    "    Fib = [0] * (int(n)+1) #create an array of appropriate size\n",
    "    Fib[1] = 1\n",
    "    Fib[2] = 1\n",
    "    \n",
    "    for i in range(3, int(n)+1): #initializes the array with current and previous values\n",
    "        previous = Fib[i-1]\n",
    "        offspring = Fib[i-2] * k\n",
    "        Fib[i] = previous + offspring\n",
    "    return Fib[int(n)]\n",
    "\n",
    "if __name__ == \"__main__\":\n",
    "    filename = \"data/rosalind_fib.txt\"\n",
    "    with open(filename, 'r') as file:\n",
    "        line = file.read().strip()\n",
    "    parts = line.split()\n",
    "    n = int(parts[0])\n",
    "    k = int(parts[1])\n",
    "    print(computefib(n,k))"
   ]
  },
  {
   "cell_type": "markdown",
   "metadata": {},
   "source": [
    "<img src=\"rabbits.png\" alt=\"Problem 4 Completion\" width=\"400px\">"
   ]
  },
  {
   "cell_type": "code",
   "execution_count": null,
   "metadata": {},
   "outputs": [],
   "source": []
  }
 ],
 "metadata": {
  "kernelspec": {
   "display_name": "base",
   "language": "python",
   "name": "python3"
  },
  "language_info": {
   "codemirror_mode": {
    "name": "ipython",
    "version": 3
   },
   "file_extension": ".py",
   "mimetype": "text/x-python",
   "name": "python",
   "nbconvert_exporter": "python",
   "pygments_lexer": "ipython3",
   "version": "3.11.5"
  }
 },
 "nbformat": 4,
 "nbformat_minor": 2
}
