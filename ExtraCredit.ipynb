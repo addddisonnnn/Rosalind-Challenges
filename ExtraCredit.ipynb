{
 "cells": [
  {
   "cell_type": "markdown",
   "metadata": {},
   "source": [
    "## <span style=\"font-family: 'Georgia', serif;\"> Rosalind Extra Credit </span>\n",
    "### <span style=\"font-family: 'Georgia', serif;\"> Addison Yam (addisony)</span>\n",
    "### <span style=\"font-family: 'Georgia', serif;\"> BF527 - Bioinformatic Foundations Fall 2025</span>\n",
    "### <span style=\"font-family: 'Georgia', serif;\"> October 27, 2025</span>"
   ]
  },
  {
   "cell_type": "markdown",
   "metadata": {},
   "source": [
    "Title: Counting DNA Nucleotides\n",
    "Link: https://rosalind.info/problems/dna/\n",
    "\n",
    "Problem:\n",
    "A string is simply an ordered collection of symbols selected from some alphabet and formed into a word; \n",
    "the length of a string is the number of symbols that it contains.\n",
    "\n",
    "An example of a length 21 DNA string (whose alphabet contains the symbols 'A', 'C', 'G', and 'T') is \"ATGCTTCAGAAAGGTCTTACG.\"\n",
    "\n",
    "Given: A DNA string s\n",
    " of length at most 1000 nt.\n",
    "\n",
    "Return: Four integers (separated by spaces) counting the respective number of times that the symbols 'A', 'C', 'G', and 'T' occur in s."
   ]
  },
  {
   "cell_type": "code",
   "execution_count": 5,
   "metadata": {},
   "outputs": [
    {
     "name": "stdout",
     "output_type": "stream",
     "text": [
      "204 240 223 219\n"
     ]
    }
   ],
   "source": [
    "def countbases(sequence):\n",
    "    Acount=sequence.count(\"A\")\n",
    "    Gcount=sequence.count(\"G\")\n",
    "    Ccount=sequence.count(\"C\")\n",
    "    Tcount=sequence.count(\"T\")\n",
    "    return(Acount, Ccount, Gcount, Tcount)\n",
    "if __name__ == \"__main__\":\n",
    "    filename = \"rosalind_dna.txt\"\n",
    "    with open(filename, 'r') as file:\n",
    "        filecontents = file.read()\n",
    "    Acount, Ccount, Gcount, Tcount = countbases(filecontents)\n",
    "    print(Acount, Ccount, Gcount, Tcount)"
   ]
  },
  {
   "cell_type": "markdown",
   "metadata": {},
   "source": [
    "![Problem 1 Completion](countingdnanucleotides.png \"Verification for Counting DNA Nucleotides Problem #1\")"
   ]
  }
 ],
 "metadata": {
  "kernelspec": {
   "display_name": "base",
   "language": "python",
   "name": "python3"
  },
  "language_info": {
   "codemirror_mode": {
    "name": "ipython",
    "version": 3
   },
   "file_extension": ".py",
   "mimetype": "text/x-python",
   "name": "python",
   "nbconvert_exporter": "python",
   "pygments_lexer": "ipython3",
   "version": "3.11.5"
  }
 },
 "nbformat": 4,
 "nbformat_minor": 2
}
